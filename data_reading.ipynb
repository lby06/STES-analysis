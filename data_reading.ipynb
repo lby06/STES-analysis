{
 "cells": [
  {
   "cell_type": "markdown",
   "metadata": {},
   "source": [
    "# reading the load"
   ]
  },
  {
   "cell_type": "code",
   "execution_count": null,
   "metadata": {},
   "outputs": [],
   "source": [
    "# Create a figure and subplots for the remaining cities (vertically arranged)\n",
    "import matplotlib.pyplot as plt\n",
    "import pandas as pd\n",
    "import os\n",
    "cities = ['Beijing', 'Wuhan', 'Urumqi']\n",
    "fig, axs = plt.subplots(3, 1, figsize=(20, 12), dpi=600)  # Adjust layout for 3 cities (3 rows, 1 column)\n",
    "plt.subplots_adjust(hspace=0.2)  # Adjust spacing between subplots\n",
    "output_dir = '/home/user/workspaces/CUE2025_final/load'\n",
    "\n",
    "# Read each city's CSV file and plot the load data\n",
    "for i, city in enumerate(cities):\n",
    "    file_path = f'/home/user/workspaces/CUE2025_final/load/{city}.csv'\n",
    "    data = pd.read_csv(file_path)\n",
    "    \n",
    "    axs[i].plot(data['elec'], label='Electricity', color='#0071BC')  # IEEE blue\n",
    "    axs[i].plot(data['cool'], label='Cooling', color='#00A651')  # IEEE green\n",
    "    axs[i].plot(data['heat'], label='Heating', color='#ED1C24')  # IEEE red\n",
    "    \n",
    "    # Set subplot title\n",
    "    axs[i].set_title(city, fontsize=30)\n",
    "\n",
    "    # Show x-axis ticks only for the bottom subplot\n",
    "    if i != len(cities) - 1:\n",
    "        axs[i].set_xticklabels([])\n",
    "    else:\n",
    "        axs[i].set_xlabel('Time (hours)', fontsize=30)\n",
    "\n",
    "    # Remove y-axis labels for individual subplots\n",
    "    axs[i].set_ylabel('')\n",
    "    axs[i].tick_params(axis='both', which='major', labelsize=30)\n",
    "\n",
    "# Set consistent y-axis range for all subplots\n",
    "y_min = min(ax.get_ylim()[0] for ax in axs)\n",
    "y_max = max(ax.get_ylim()[1] for ax in axs)\n",
    "for ax in axs:\n",
    "    ax.set_ylim(y_min, y_max)\n",
    "\n",
    "# Add a shared y-axis label for the entire figure\n",
    "fig.text(0.05, 0.5, 'Load (MW)', va='center', rotation='vertical', fontsize=30)\n",
    "\n",
    "# Create a shared legend for all subplots, closer to the figure\n",
    "lines, labels = axs[0].get_legend_handles_labels()\n",
    "fig.legend(lines, ['Electricity', 'Cooling', 'Heat'], loc='lower center', ncol=3, fontsize=30, bbox_to_anchor=(0.5, -0.05))\n",
    "\n",
    "# Save the plot to the output directory\n",
    "plt.savefig(f'{output_dir}/load_plot.png', dpi=600, bbox_inches='tight')\n",
    "\n",
    "# Show the plot\n",
    "plt.show()\n",
    "\n"
   ]
  }
 ],
 "metadata": {
  "kernelspec": {
   "display_name": "base",
   "language": "python",
   "name": "python3"
  },
  "language_info": {
   "codemirror_mode": {
    "name": "ipython",
    "version": 3
   },
   "file_extension": ".py",
   "mimetype": "text/x-python",
   "name": "python",
   "nbconvert_exporter": "python",
   "pygments_lexer": "ipython3",
   "version": "3.11.5"
  }
 },
 "nbformat": 4,
 "nbformat_minor": 2
}
