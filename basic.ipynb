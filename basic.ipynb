{
 "cells": [
  {
   "cell_type": "code",
   "execution_count": null,
   "metadata": {},
   "outputs": [],
   "source": [
    "\n",
    "from optimal_plan import optimal_plan\n",
    "\n",
    "# basic scenario settings\n",
    "carbon_price = 100    # carbon price, unit: WRMB/ton\n",
    "pv_space = 3.8      # PV space, unit: km^2\n",
    "\n",
    "# code repersenting different cities\n",
    "city_code = 1\n",
    "print('Now planning city {}'.format(city_code))\n",
    "m1 = optimal_plan(city_code = city_code, carbon_price = carbon_price, pv_space = pv_space)\n",
    "city_code = 3\n",
    "print('Now planning city {}'.format(city_code))\n",
    "m3 = optimal_plan(city_code = city_code, carbon_price = carbon_price, pv_space = pv_space)\n",
    "city_code = 4\n",
    "print('Now planning city {}'.format(city_code))\n",
    "m4 = optimal_plan(city_code = city_code, carbon_price = carbon_price, pv_space = pv_space)"
   ]
  },
  {
   "cell_type": "markdown",
   "metadata": {},
   "source": [
    "# SOC plot"
   ]
  },
  {
   "cell_type": "code",
   "execution_count": null,
   "metadata": {},
   "outputs": [],
   "source": [
    "# three cities: Beijing, Wuhan, Urumqi state of charge (SOC) data visualization\n",
    "# data processing\n",
    "import matplotlib.pyplot as plt\n",
    "import numpy as np\n",
    "import pandas as pd\n",
    "\n",
    "\n",
    "cities = ['Beijing', 'Wuhan', 'Urumqi'] \n",
    "colors = ['tab:orange', 'tab:olive', 'tab:purple']  # colar formating\n",
    "soc_data = [m1.storage_soc, m3.storage_soc, m4.storage_soc]\n",
    "# saved data\n",
    "soc_df = pd.DataFrame(soc_data, index=cities).T\n",
    "soc_df.columns = cities\n",
    "soc_df.to_csv('/home/user/workspaces/CUE2025_final/basic_results/soc_data.csv', index=False)\n",
    "\n",
    "\n",
    "\n"
   ]
  },
  {
   "cell_type": "code",
   "execution_count": null,
   "metadata": {},
   "outputs": [],
   "source": [
    "# ploting\n",
    "fig, axes = plt.subplots(3, 1, figsize=(20, 12), dpi=600) \n",
    "plt.subplots_adjust(hspace=0.3) \n",
    "\n",
    "# SOC plot for each city\n",
    "for i, ax in enumerate(axes):  \n",
    "    lstorage_soc = [soc_data[i][3, t]() for t in range(8760)]\n",
    "    \n",
    "\n",
    "    ax.plot(range(8760), lstorage_soc, color=colors[i], linewidth=2)\n",
    "    \n",
    "    # draw the line for every month\n",
    "    for j in range(0, 13):\n",
    "        ax.axvline(x=j * 30 * 24, color='gray', linestyle='--', linewidth=0.5)\n",
    "    \n",
    "    ax.set_title(cities[i], fontsize=25)  \n",
    "    \n",
    "    ax.tick_params(axis='y', which='major', labelsize=20)\n",
    "\n",
    "fig.text(0.05, 0.5, 'SOC (MWh)', va='center', rotation='vertical', fontsize=25)\n",
    "fig.text(0.5, 0.03, 'Time (hour)', ha='center', fontsize=25)\n",
    "\n",
    "for ax in axes:\n",
    "    ax.tick_params(axis='both', which='major', labelsize=20)  # 调大刻度字体大小\n",
    "\n",
    "plt.show()\n",
    "plt.savefig('/home/user/workspaces/CUE2025_final/basic_results/soc_plot.png', dpi=600, bbox_inches='tight')"
   ]
  },
  {
   "cell_type": "markdown",
   "metadata": {},
   "source": [
    "# Optimal result"
   ]
  },
  {
   "cell_type": "code",
   "execution_count": null,
   "metadata": {},
   "outputs": [],
   "source": [
    "m=m1\n",
    "# data analysis and display\n",
    "print('TOTAL COST:{}'.format(m.total_cost()))\n",
    "print('TOTAL INVEST COST:{}'.format(m.invest_cost()))\n",
    "print('TOTAL ELEC_PURCHASE COST:{}'.format(m.oper_cost()))\n",
    "#print('TOTAL CARBON COST:{}'.format(m.carbon_cost()))\n",
    "#----------------------------------------\n",
    "# \n",
    "print('CONVERTER CAPACITY:')\n",
    "for device in m.set_converter:\n",
    "    print('DEVICE{},CAPACITY:{} MW'.format(m.conversion_device_list[device].label, m.convert_invest[device]()))\n",
    "print('STORAGE CAPACITY:')\n",
    "for device in m.set_storage:\n",
    "    print('DEVICE{},ENERGY CAPACITY:{} MWh, POWER CAPACITY:{} MW'.format(m.storage_device_list[device].label, m.storage_invest[device](), \\\n",
    "        m.storage_invest[device]()/m.storage_device_list[device].t_duration))\n",
    "#---------------------------------\n",
    "# solar device \n",
    "print('PV SPACE: {} km^2'.format(m.solar_Area['pv']()))\n",
    "print('SOLAR COLLERCTOR SPACE: {} km^2'.format(m.solar_Area['sc']()))\n",
    "\n"
   ]
  }
 ],
 "metadata": {
  "kernelspec": {
   "display_name": "base",
   "language": "python",
   "name": "python3"
  },
  "language_info": {
   "codemirror_mode": {
    "name": "ipython",
    "version": 3
   },
   "file_extension": ".py",
   "mimetype": "text/x-python",
   "name": "python",
   "nbconvert_exporter": "python",
   "pygments_lexer": "ipython3",
   "version": "3.11.5"
  }
 },
 "nbformat": 4,
 "nbformat_minor": 2
}
